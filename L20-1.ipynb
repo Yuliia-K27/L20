{
  "metadata": {
    "language_info": {
      "codemirror_mode": {
        "name": "python",
        "version": 3
      },
      "file_extension": ".py",
      "mimetype": "text/x-python",
      "name": "python",
      "nbconvert_exporter": "python",
      "pygments_lexer": "ipython3",
      "version": "3.8"
    },
    "kernelspec": {
      "name": "python",
      "display_name": "Python (Pyodide)",
      "language": "python"
    }
  },
  "nbformat_minor": 4,
  "nbformat": 4,
  "cells": [
    {
      "cell_type": "markdown",
      "source": "| year | rank | company                 | revenue | profit |\n|------|------|-------------------------|---------|--------|\n| 1955 | 229  | Norton                  | 135.0   | N.A.   |\n| 1955 | 291  | Schlitz Brewing         | 100.0   | N.A.   |\n| 1955 | 295  | Pacific Vegetable Oil   | 97.9    | N.A.   |\n| 1955 | 297  | Liebmann Breweris       | 96.0    | N.A.   |\n| 1955 | 353  | Minneapolis-Moline      | 77.4    | N.A.   |",
      "metadata": {}
    },
    {
      "cell_type": "code",
      "source": "",
      "metadata": {},
      "execution_count": null,
      "outputs": []
    }
  ]
}